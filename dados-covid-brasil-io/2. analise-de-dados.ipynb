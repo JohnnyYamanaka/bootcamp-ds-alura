{
 "cells": [
  {
   "cell_type": "markdown",
   "id": "12fba0b5",
   "metadata": {},
   "source": [
    "# Análise do Dataset  \n",
    "Agora que limpamos os dados é a hora de se aprofundar mais no dataset."
   ]
  },
  {
   "cell_type": "markdown",
   "id": "170b2db3",
   "metadata": {},
   "source": [
    "## Importando as Bibliotecas"
   ]
  },
  {
   "cell_type": "code",
   "execution_count": 1,
   "id": "aeaa7d7b",
   "metadata": {},
   "outputs": [],
   "source": [
    "import pandas as pd\n",
    "import numpy as np\n",
    "import matplotlib \n",
    "import matplotlib.pyplot as plt\n",
    "import seaborn as sns\n",
    "\n",
    "import warnings\n",
    "warnings.filterwarnings('ignore')"
   ]
  },
  {
   "cell_type": "markdown",
   "id": "70a892c6",
   "metadata": {},
   "source": [
    "## Definições Auxiliares"
   ]
  },
  {
   "cell_type": "code",
   "execution_count": 2,
   "id": "7b0c08e3",
   "metadata": {},
   "outputs": [],
   "source": [
    "# define colors\n",
    "GRAY1, GRAY2, GRAY3 = '#231F20', '#414040', '#555655'\n",
    "GRAY4, GRAY5, GRAY6 = '#646369', '#76787B', '#828282'\n",
    "GRAY7, GRAY8, GRAY9 = '#929497', '#A6A6A5', '#BFBEBE'\n",
    "BLUE1, BLUE2, BLUE3, BLUE4 = '#174A7E', '#4A81BF', '#94B2D7', '#94AFC5'\n",
    "RED1, RED2 = '#C3514E', '#E6BAB7'\n",
    "GREEN1, GREEN2 = '#0C8040', '#9ABB59'\n",
    "ORANGE1 = '#F79747'\n"
   ]
  },
  {
   "cell_type": "code",
   "execution_count": 3,
   "id": "51be668e",
   "metadata": {},
   "outputs": [],
   "source": [
    "# configure plot font family to Arial\n",
    "plt.rcParams['font.family'] = 'Arial'\n",
    "# configure mathtext bold and italic font family to Arial\n",
    "matplotlib.rcParams['mathtext.fontset'] = 'custom'\n",
    "matplotlib.rcParams['mathtext.bf'] = 'Arial:bold'\n",
    "matplotlib.rcParams['mathtext.it'] = 'Arial:italic'\n",
    "\n",
    "%matplotlib inline"
   ]
  },
  {
   "cell_type": "markdown",
   "id": "0e8978c5",
   "metadata": {},
   "source": [
    "## Análise"
   ]
  },
  {
   "cell_type": "code",
   "execution_count": 4,
   "id": "c112aae4",
   "metadata": {},
   "outputs": [],
   "source": [
    "df_vale = pd.read_csv('./dados/dados_limpos/vale_do_paraiba.csv', parse_dates=['date'])"
   ]
  },
  {
   "cell_type": "code",
   "execution_count": 5,
   "id": "a153365e",
   "metadata": {},
   "outputs": [
    {
     "data": {
      "text/html": [
       "<div>\n",
       "<style scoped>\n",
       "    .dataframe tbody tr th:only-of-type {\n",
       "        vertical-align: middle;\n",
       "    }\n",
       "\n",
       "    .dataframe tbody tr th {\n",
       "        vertical-align: top;\n",
       "    }\n",
       "\n",
       "    .dataframe thead th {\n",
       "        text-align: right;\n",
       "    }\n",
       "</style>\n",
       "<table border=\"1\" class=\"dataframe\">\n",
       "  <thead>\n",
       "    <tr style=\"text-align: right;\">\n",
       "      <th></th>\n",
       "      <th>city</th>\n",
       "      <th>date</th>\n",
       "      <th>epidemiological_week</th>\n",
       "      <th>estimated_population</th>\n",
       "      <th>is_repeated</th>\n",
       "      <th>last_available_confirmed</th>\n",
       "      <th>last_available_confirmed_per_100k_inhabitants</th>\n",
       "      <th>last_available_date</th>\n",
       "      <th>last_available_death_rate</th>\n",
       "      <th>last_available_deaths</th>\n",
       "      <th>order_for_place</th>\n",
       "      <th>new_confirmed</th>\n",
       "      <th>new_deaths</th>\n",
       "    </tr>\n",
       "  </thead>\n",
       "  <tbody>\n",
       "    <tr>\n",
       "      <th>0</th>\n",
       "      <td>São José dos Campos</td>\n",
       "      <td>2020-03-18</td>\n",
       "      <td>202012</td>\n",
       "      <td>729737.0</td>\n",
       "      <td>False</td>\n",
       "      <td>1</td>\n",
       "      <td>0.13704</td>\n",
       "      <td>2020-03-18</td>\n",
       "      <td>0.0</td>\n",
       "      <td>0</td>\n",
       "      <td>1</td>\n",
       "      <td>1</td>\n",
       "      <td>0</td>\n",
       "    </tr>\n",
       "    <tr>\n",
       "      <th>1</th>\n",
       "      <td>São José dos Campos</td>\n",
       "      <td>2020-03-19</td>\n",
       "      <td>202012</td>\n",
       "      <td>729737.0</td>\n",
       "      <td>True</td>\n",
       "      <td>1</td>\n",
       "      <td>0.13704</td>\n",
       "      <td>2020-03-18</td>\n",
       "      <td>0.0</td>\n",
       "      <td>0</td>\n",
       "      <td>2</td>\n",
       "      <td>0</td>\n",
       "      <td>0</td>\n",
       "    </tr>\n",
       "    <tr>\n",
       "      <th>2</th>\n",
       "      <td>Taubaté</td>\n",
       "      <td>2020-03-19</td>\n",
       "      <td>202012</td>\n",
       "      <td>317915.0</td>\n",
       "      <td>False</td>\n",
       "      <td>1</td>\n",
       "      <td>0.31455</td>\n",
       "      <td>2020-03-19</td>\n",
       "      <td>0.0</td>\n",
       "      <td>0</td>\n",
       "      <td>1</td>\n",
       "      <td>1</td>\n",
       "      <td>0</td>\n",
       "    </tr>\n",
       "    <tr>\n",
       "      <th>3</th>\n",
       "      <td>São José dos Campos</td>\n",
       "      <td>2020-03-20</td>\n",
       "      <td>202012</td>\n",
       "      <td>729737.0</td>\n",
       "      <td>False</td>\n",
       "      <td>1</td>\n",
       "      <td>0.13704</td>\n",
       "      <td>2020-03-20</td>\n",
       "      <td>0.0</td>\n",
       "      <td>0</td>\n",
       "      <td>3</td>\n",
       "      <td>0</td>\n",
       "      <td>0</td>\n",
       "    </tr>\n",
       "    <tr>\n",
       "      <th>4</th>\n",
       "      <td>Taubaté</td>\n",
       "      <td>2020-03-20</td>\n",
       "      <td>202012</td>\n",
       "      <td>317915.0</td>\n",
       "      <td>False</td>\n",
       "      <td>1</td>\n",
       "      <td>0.31455</td>\n",
       "      <td>2020-03-20</td>\n",
       "      <td>0.0</td>\n",
       "      <td>0</td>\n",
       "      <td>2</td>\n",
       "      <td>0</td>\n",
       "      <td>0</td>\n",
       "    </tr>\n",
       "  </tbody>\n",
       "</table>\n",
       "</div>"
      ],
      "text/plain": [
       "                  city       date  epidemiological_week  estimated_population  \\\n",
       "0  São José dos Campos 2020-03-18                202012              729737.0   \n",
       "1  São José dos Campos 2020-03-19                202012              729737.0   \n",
       "2              Taubaté 2020-03-19                202012              317915.0   \n",
       "3  São José dos Campos 2020-03-20                202012              729737.0   \n",
       "4              Taubaté 2020-03-20                202012              317915.0   \n",
       "\n",
       "   is_repeated  last_available_confirmed  \\\n",
       "0        False                         1   \n",
       "1         True                         1   \n",
       "2        False                         1   \n",
       "3        False                         1   \n",
       "4        False                         1   \n",
       "\n",
       "   last_available_confirmed_per_100k_inhabitants last_available_date  \\\n",
       "0                                        0.13704          2020-03-18   \n",
       "1                                        0.13704          2020-03-18   \n",
       "2                                        0.31455          2020-03-19   \n",
       "3                                        0.13704          2020-03-20   \n",
       "4                                        0.31455          2020-03-20   \n",
       "\n",
       "   last_available_death_rate  last_available_deaths  order_for_place  \\\n",
       "0                        0.0                      0                1   \n",
       "1                        0.0                      0                2   \n",
       "2                        0.0                      0                1   \n",
       "3                        0.0                      0                3   \n",
       "4                        0.0                      0                2   \n",
       "\n",
       "   new_confirmed  new_deaths  \n",
       "0              1           0  \n",
       "1              0           0  \n",
       "2              1           0  \n",
       "3              0           0  \n",
       "4              0           0  "
      ]
     },
     "execution_count": 5,
     "metadata": {},
     "output_type": "execute_result"
    }
   ],
   "source": [
    "df_vale.head()"
   ]
  },
  {
   "cell_type": "code",
   "execution_count": 6,
   "id": "d64b74b8",
   "metadata": {},
   "outputs": [
    {
     "name": "stdout",
     "output_type": "stream",
     "text": [
      "<class 'pandas.core.frame.DataFrame'>\n",
      "RangeIndex: 20123 entries, 0 to 20122\n",
      "Data columns (total 13 columns):\n",
      " #   Column                                         Non-Null Count  Dtype         \n",
      "---  ------                                         --------------  -----         \n",
      " 0   city                                           20123 non-null  object        \n",
      " 1   date                                           20123 non-null  datetime64[ns]\n",
      " 2   epidemiological_week                           20123 non-null  int64         \n",
      " 3   estimated_population                           20123 non-null  float64       \n",
      " 4   is_repeated                                    20123 non-null  bool          \n",
      " 5   last_available_confirmed                       20123 non-null  int64         \n",
      " 6   last_available_confirmed_per_100k_inhabitants  20080 non-null  float64       \n",
      " 7   last_available_date                            20123 non-null  object        \n",
      " 8   last_available_death_rate                      20123 non-null  float64       \n",
      " 9   last_available_deaths                          20123 non-null  int64         \n",
      " 10  order_for_place                                20123 non-null  int64         \n",
      " 11  new_confirmed                                  20123 non-null  int64         \n",
      " 12  new_deaths                                     20123 non-null  int64         \n",
      "dtypes: bool(1), datetime64[ns](1), float64(3), int64(6), object(2)\n",
      "memory usage: 1.9+ MB\n"
     ]
    }
   ],
   "source": [
    "df_vale.info()"
   ]
  },
  {
   "cell_type": "markdown",
   "id": "132e0bfc",
   "metadata": {},
   "source": [
    "Antes de utilizamos a coluna se semana epidemiológica, precisamos realizar alguns ajustes nele. Isso porque, da maneira como ele está (tipo de dados int), quando plotarmos ele no eixo x vai imprimir semanas que não existem, como 2020-59 (2020 tiveram 53 semanas). Para evitar interpretações equivocadas vamos converter ele para o formato Y-U (ano-semana)."
   ]
  },
  {
   "cell_type": "code",
   "execution_count": 7,
   "id": "63bf509f",
   "metadata": {},
   "outputs": [],
   "source": [
    "import datetime\n",
    "\n",
    "def convert_column_to_year_week(serie : pd.Series):\n",
    "    \n",
    "    #converte a série para string, adicionando um '-W' antes do número da semana\n",
    "    serie = (serie.apply(lambda x: str(x)[:4] + '-W' + str(x)[4:]))\n",
    "    \n",
    "    #converte a série gerada anteriormente para datetime.\n",
    "    serie = serie.apply(lambda x: datetime.datetime.strptime(x + '-1', '%Y-W%W-%w'))\n",
    "    \n",
    "    #e finalmente, coloca a série no formato desejado, ano-semana.\n",
    "    serie = (serie.apply(lambda x: datetime.datetime.strftime(x, '%Y-%U')))\n",
    "    \n",
    "    return serie\n",
    "    "
   ]
  },
  {
   "cell_type": "code",
   "execution_count": 8,
   "id": "1ac380f0",
   "metadata": {},
   "outputs": [],
   "source": [
    "df_vale['epidemiological_week'] = convert_column_to_year_week(df_vale['epidemiological_week'])"
   ]
  },
  {
   "cell_type": "markdown",
   "id": "0cf11dba",
   "metadata": {},
   "source": [
    "Roteiro de investigação:\n",
    "* Qual foi o primeiro caso registrado na região? E qual foi a última cidade a registrar o primeiro caso?\n",
    "* Quais são as cidades com mais casos?\n",
    "* Total de mortes por cidade\n",
    "* As cidades com populações maiores teve mais casos proporcionalmente?\n",
    "* Maior taxa de mortalidade\n",
    "* Quais são as cidades que teve mais boletins?"
   ]
  },
  {
   "cell_type": "markdown",
   "id": "43c44da9",
   "metadata": {},
   "source": [
    "### Qual foi o primeiro caso registrado na região? E qual foi a última cidade a registrar o primeiro caso?"
   ]
  },
  {
   "cell_type": "code",
   "execution_count": 9,
   "id": "15c3cd3d",
   "metadata": {},
   "outputs": [
    {
     "data": {
      "text/html": [
       "<div>\n",
       "<style scoped>\n",
       "    .dataframe tbody tr th:only-of-type {\n",
       "        vertical-align: middle;\n",
       "    }\n",
       "\n",
       "    .dataframe tbody tr th {\n",
       "        vertical-align: top;\n",
       "    }\n",
       "\n",
       "    .dataframe thead th {\n",
       "        text-align: right;\n",
       "    }\n",
       "</style>\n",
       "<table border=\"1\" class=\"dataframe\">\n",
       "  <thead>\n",
       "    <tr style=\"text-align: right;\">\n",
       "      <th></th>\n",
       "      <th>city</th>\n",
       "      <th>date</th>\n",
       "      <th>epidemiological_week</th>\n",
       "    </tr>\n",
       "  </thead>\n",
       "  <tbody>\n",
       "    <tr>\n",
       "      <th>31</th>\n",
       "      <td>São José dos Campos</td>\n",
       "      <td>2020-03-18</td>\n",
       "      <td>2020-12</td>\n",
       "    </tr>\n",
       "    <tr>\n",
       "      <th>33</th>\n",
       "      <td>Taubaté</td>\n",
       "      <td>2020-03-19</td>\n",
       "      <td>2020-12</td>\n",
       "    </tr>\n",
       "    <tr>\n",
       "      <th>4</th>\n",
       "      <td>Cachoeira Paulista</td>\n",
       "      <td>2020-03-31</td>\n",
       "      <td>2020-14</td>\n",
       "    </tr>\n",
       "    <tr>\n",
       "      <th>7</th>\n",
       "      <td>Caraguatatuba</td>\n",
       "      <td>2020-04-06</td>\n",
       "      <td>2020-15</td>\n",
       "    </tr>\n",
       "    <tr>\n",
       "      <th>21</th>\n",
       "      <td>Pindamonhangaba</td>\n",
       "      <td>2020-04-07</td>\n",
       "      <td>2020-15</td>\n",
       "    </tr>\n",
       "  </tbody>\n",
       "</table>\n",
       "</div>"
      ],
      "text/plain": [
       "                   city       date epidemiological_week\n",
       "31  São José dos Campos 2020-03-18              2020-12\n",
       "33              Taubaté 2020-03-19              2020-12\n",
       "4    Cachoeira Paulista 2020-03-31              2020-14\n",
       "7         Caraguatatuba 2020-04-06              2020-15\n",
       "21      Pindamonhangaba 2020-04-07              2020-15"
      ]
     },
     "execution_count": 9,
     "metadata": {},
     "output_type": "execute_result"
    }
   ],
   "source": [
    "df_primeiros_casos = df_vale[(df_vale['last_available_confirmed'] == 1) & \n",
    "                             (df_vale['is_repeated'] == False)]\n",
    "\n",
    "df_primeiros_casos.groupby('city')[['date', 'epidemiological_week']].first(). \\\n",
    "                                                    reset_index().sort_values(by='date').head()"
   ]
  },
  {
   "cell_type": "markdown",
   "id": "4fb12b9c",
   "metadata": {},
   "source": [
    "A primeira cidade a registrar um caso foi São José dos Campos (18 de março de 2020) e a última cidade a registrar foi São José do Barreiro (1 de agosto de 2020)."
   ]
  },
  {
   "cell_type": "markdown",
   "id": "9d0f4f65",
   "metadata": {},
   "source": [
    "### Quais são as cidades do Vale que teve mais casos?"
   ]
  },
  {
   "cell_type": "code",
   "execution_count": 10,
   "id": "5ae507a0",
   "metadata": {},
   "outputs": [
    {
     "data": {
      "text/html": [
       "<div>\n",
       "<style scoped>\n",
       "    .dataframe tbody tr th:only-of-type {\n",
       "        vertical-align: middle;\n",
       "    }\n",
       "\n",
       "    .dataframe tbody tr th {\n",
       "        vertical-align: top;\n",
       "    }\n",
       "\n",
       "    .dataframe thead th {\n",
       "        text-align: right;\n",
       "    }\n",
       "</style>\n",
       "<table border=\"1\" class=\"dataframe\">\n",
       "  <thead>\n",
       "    <tr style=\"text-align: right;\">\n",
       "      <th></th>\n",
       "      <th>city</th>\n",
       "      <th>last_available_confirmed</th>\n",
       "    </tr>\n",
       "  </thead>\n",
       "  <tbody>\n",
       "    <tr>\n",
       "      <th>33</th>\n",
       "      <td>São José dos Campos</td>\n",
       "      <td>92113</td>\n",
       "    </tr>\n",
       "    <tr>\n",
       "      <th>36</th>\n",
       "      <td>Taubaté</td>\n",
       "      <td>28939</td>\n",
       "    </tr>\n",
       "    <tr>\n",
       "      <th>14</th>\n",
       "      <td>Jacareí</td>\n",
       "      <td>25245</td>\n",
       "    </tr>\n",
       "    <tr>\n",
       "      <th>7</th>\n",
       "      <td>Caraguatatuba</td>\n",
       "      <td>18074</td>\n",
       "    </tr>\n",
       "    <tr>\n",
       "      <th>22</th>\n",
       "      <td>Pindamonhangaba</td>\n",
       "      <td>15073</td>\n",
       "    </tr>\n",
       "  </tbody>\n",
       "</table>\n",
       "</div>"
      ],
      "text/plain": [
       "                   city  last_available_confirmed\n",
       "33  São José dos Campos                     92113\n",
       "36              Taubaté                     28939\n",
       "14              Jacareí                     25245\n",
       "7         Caraguatatuba                     18074\n",
       "22      Pindamonhangaba                     15073"
      ]
     },
     "execution_count": 10,
     "metadata": {},
     "output_type": "execute_result"
    }
   ],
   "source": [
    "df_total_casos_e_mortes = df_vale.groupby(['city'])['last_available_confirmed', \n",
    "                                                    'last_available_deaths'].last()\n",
    "\n",
    "\n",
    "df_total_casos_e_mortes.reset_index(inplace=True)\n",
    "df_total_casos_e_mortes.sort_values(by='last_available_confirmed', \n",
    "                                    ascending=False)[['city', 'last_available_confirmed']].head()"
   ]
  },
  {
   "cell_type": "code",
   "execution_count": 11,
   "id": "add15d10",
   "metadata": {},
   "outputs": [
    {
     "name": "stderr",
     "output_type": "stream",
     "text": [
      "findfont: Font family ['Arial'] not found. Falling back to DejaVu Sans.\n",
      "findfont: Font family ['Arial'] not found. Falling back to DejaVu Sans.\n",
      "findfont: Font family ['Arial'] not found. Falling back to DejaVu Sans.\n",
      "findfont: Font family ['Arial'] not found. Falling back to DejaVu Sans.\n",
      "findfont: Font family ['cursive'] not found. Falling back to DejaVu Sans.\n",
      "findfont: Generic family 'cursive' not found because none of the following families were found: Apple Chancery, Textile, Zapf Chancery, Sand, Script MT, Felipa, Comic Neue, Comic Sans MS, cursive\n",
      "findfont: Font family ['Arial'] not found. Falling back to DejaVu Sans.\n",
      "findfont: Font family ['Arial'] not found. Falling back to DejaVu Sans.\n",
      "findfont: Font family ['Arial'] not found. Falling back to DejaVu Sans.\n"
     ]
    },
    {
     "data": {
      "image/png": "[encoded data removed]",
      "text/plain": [
       "<Figure size 1100x660 with 1 Axes>"
      ]
     },
     "metadata": {},
     "output_type": "display_data"
    }
   ],
   "source": [
    "# create new figure\n",
    "plt.figure(figsize=(10, 6), # width, height in inches\n",
    "           dpi=110)         # resolution of the figure\n",
    "\n",
    "# remove chart border\n",
    "for spine in plt.gca().spines.values():\n",
    "    spine.set_visible(False)\n",
    "    \n",
    "# change the appearance of ticks, tick labels, and gridlines \n",
    "plt.tick_params(bottom=False, left=False, labelleft=False, labelbottom=False)\n",
    "\n",
    "\n",
    "# titile the plot\n",
    "plt.text(0.0099, 1.03,\n",
    "         'COVID-19 no Vale do Paraíba'+' '*27,\n",
    "         fontsize=26,\n",
    "         color='white',\n",
    "         bbox={'facecolor': GRAY7, 'pad': 10, 'edgecolor': 'none'}\n",
    "         )\n",
    "\n",
    "# footnote with the data source\n",
    "plt.text(0, 0.04,\n",
    "         'Dados retirados obtidos no Brasil.IO '\n",
    "         'compreende o período de mar/20 até '\n",
    "         'set/21',\n",
    "         fontsize=10.5,\n",
    "         color=GRAY3)\n",
    "\n",
    "# add note to the plot\n",
    "plt.text(0, 0.81,\n",
    "         'São José dos Campos registrou',\n",
    "         fontsize=19,\n",
    "         color=BLUE2)\n",
    "\n",
    "# add note to the plot\n",
    "plt.text(0, 0.41,\n",
    "         '$\\\\bf{92.113}$ casos', # use mathtext \\\\bf for bold text\n",
    "         fontsize=48,\n",
    "         color=BLUE2)\n",
    "\n",
    "\n",
    "# add note to the plot\n",
    "plt.text(0, 0.33,\n",
    "         'três vezes mais que a segunda cidade, Taubaté, com 28.939 casos',\n",
    "         fontsize=14,\n",
    "         color=GRAY7)\n",
    "\n",
    "\n",
    "plt.show()"
   ]
  },
  {
   "cell_type": "markdown",
   "id": "e887016f",
   "metadata": {},
   "source": [
    "### Quais são as cidades com mais mortes causados pela covid?"
   ]
  },
  {
   "cell_type": "code",
   "execution_count": 12,
   "id": "49e8674b",
   "metadata": {},
   "outputs": [
    {
     "data": {
      "text/html": [
       "<div>\n",
       "<style scoped>\n",
       "    .dataframe tbody tr th:only-of-type {\n",
       "        vertical-align: middle;\n",
       "    }\n",
       "\n",
       "    .dataframe tbody tr th {\n",
       "        vertical-align: top;\n",
       "    }\n",
       "\n",
       "    .dataframe thead th {\n",
       "        text-align: right;\n",
       "    }\n",
       "</style>\n",
       "<table border=\"1\" class=\"dataframe\">\n",
       "  <thead>\n",
       "    <tr style=\"text-align: right;\">\n",
       "      <th></th>\n",
       "      <th>city</th>\n",
       "      <th>last_available_deaths</th>\n",
       "    </tr>\n",
       "  </thead>\n",
       "  <tbody>\n",
       "    <tr>\n",
       "      <th>33</th>\n",
       "      <td>São José dos Campos</td>\n",
       "      <td>1931</td>\n",
       "    </tr>\n",
       "    <tr>\n",
       "      <th>36</th>\n",
       "      <td>Taubaté</td>\n",
       "      <td>910</td>\n",
       "    </tr>\n",
       "    <tr>\n",
       "      <th>14</th>\n",
       "      <td>Jacareí</td>\n",
       "      <td>756</td>\n",
       "    </tr>\n",
       "    <tr>\n",
       "      <th>7</th>\n",
       "      <td>Caraguatatuba</td>\n",
       "      <td>461</td>\n",
       "    </tr>\n",
       "    <tr>\n",
       "      <th>22</th>\n",
       "      <td>Pindamonhangaba</td>\n",
       "      <td>380</td>\n",
       "    </tr>\n",
       "  </tbody>\n",
       "</table>\n",
       "</div>"
      ],
      "text/plain": [
       "                   city  last_available_deaths\n",
       "33  São José dos Campos                   1931\n",
       "36              Taubaté                    910\n",
       "14              Jacareí                    756\n",
       "7         Caraguatatuba                    461\n",
       "22      Pindamonhangaba                    380"
      ]
     },
     "execution_count": 12,
     "metadata": {},
     "output_type": "execute_result"
    }
   ],
   "source": [
    "df_total_casos_e_mortes.sort_values(by='last_available_deaths', \n",
    "                                    ascending=False)[['city', 'last_available_deaths']].head()\n"
   ]
  },
  {
   "cell_type": "code",
   "execution_count": 13,
   "id": "3fcea590",
   "metadata": {},
   "outputs": [],
   "source": [
    "#Colocar aquele painel com o informativo"
   ]
  },
  {
   "cell_type": "code",
   "execution_count": 14,
   "id": "74a05e01",
   "metadata": {},
   "outputs": [],
   "source": [
    "#Colocar total de casos"
   ]
  },
  {
   "cell_type": "code",
   "execution_count": 15,
   "id": "edf6aa33",
   "metadata": {},
   "outputs": [
    {
     "name": "stdout",
     "output_type": "stream",
     "text": [
      "Total de casos no Vale do Paraíba:  266,486\n",
      "\n",
      "Total de mortes:  6,320\n"
     ]
    }
   ],
   "source": [
    "total_casos = df_total_casos_e_mortes['last_available_confirmed'].sum()\n",
    "total_mortes = df_total_casos_e_mortes['last_available_deaths'].sum()\n",
    "\n",
    "print(f'Total de casos no Vale do Paraíba: {total_casos: ,d}')\n",
    "print(f'\\nTotal de mortes: {total_mortes: ,d}')      "
   ]
  },
  {
   "cell_type": "code",
   "execution_count": 16,
   "id": "417d8f7a",
   "metadata": {},
   "outputs": [
    {
     "data": {
      "text/plain": [
       "Text(-0.15, 0.04, 'Dados retirados obtidos no Brasil.IO compreende o período de mar/20 até set/21')"
      ]
     },
     "execution_count": 16,
     "metadata": {},
     "output_type": "execute_result"
    },
    {
     "name": "stderr",
     "output_type": "stream",
     "text": [
      "findfont: Font family ['Arial'] not found. Falling back to DejaVu Sans.\n"
     ]
    },
    {
     "data": {
      "image/png": "[encoded data removed]",
      "text/plain": [
       "<Figure size 819.5x539 with 1 Axes>"
      ]
     },
     "metadata": {},
     "output_type": "display_data"
    }
   ],
   "source": [
    "# create new figure\n",
    "plt.figure(figsize=(7.45, 4.9), # width, height in inches\n",
    "           dpi=110)             # resolution of the figure\n",
    "\n",
    "# remove chart border\n",
    "for spine in plt.gca().spines.values():\n",
    "    spine.set_visible(False)\n",
    "\n",
    "# change the appearance of ticks, tick labels, and gridlines \n",
    "plt.tick_params(bottom=False, left=False, labelleft=False, labelbottom=False)\n",
    "\n",
    "# titile the plot\n",
    "plt.text(-0.15, 1.03,\n",
    "         'COVID-19 no Vale do Paraíba'+' '*27,\n",
    "         fontsize=26,\n",
    "         color='white',\n",
    "         # put a rectangular box around the text to set a background color\n",
    "         bbox={'facecolor': GRAY7, 'pad': 10, 'edgecolor': 'none'})\n",
    "\n",
    "# add note to the plot\n",
    "plt.text(-0.15, 0.81,\n",
    "         'Casos de Covid:',\n",
    "         fontsize=19,\n",
    "         color=BLUE2)\n",
    "\n",
    "# add note to the plot\n",
    "plt.text(-0.15, 0.61,\n",
    "         '$\\\\bf{266.486}$', # use mathtext \\\\bf for bold text\n",
    "         fontsize=60,\n",
    "         color=BLUE2)\n",
    "\n",
    "\n",
    "# add note to the plot\n",
    "plt.text(-0.15, 0.41,\n",
    "         'Mortes em decorrência do vírus:',\n",
    "         fontsize=19,\n",
    "         color=BLUE2)\n",
    "\n",
    "# add note to the plot\n",
    "plt.text(-0.15, 0.21,\n",
    "         '$\\\\bf{6.320}$', # use mathtext \\\\bf for bold text\n",
    "         fontsize=60,\n",
    "         color=BLUE2)\n",
    "\n",
    "\n",
    "# footnote with the data source\n",
    "plt.text(-0.15, 0.04,\n",
    "         'Dados retirados obtidos no Brasil.IO '\n",
    "         'compreende o período de mar/20 até '\n",
    "         'set/21',\n",
    "         fontsize=10.5,\n",
    "         color=GRAY3)\n"
   ]
  },
  {
   "cell_type": "markdown",
   "id": "9f7bd849",
   "metadata": {},
   "source": [
    "### As cidades com populações maiores teve mais casos proporcionalmente?  \n",
    "No dataset existe uma coluna que se chama `last_available_confirmed_per_100k_inhabitants` onde é calculado a proporção de casos a cada 100 mil habitantes. Vamos utilizar essa coluna para responder essa pergunta.\n"
   ]
  },
  {
   "cell_type": "code",
   "execution_count": 17,
   "id": "9ad95890",
   "metadata": {},
   "outputs": [
    {
     "data": {
      "text/html": [
       "<div>\n",
       "<style scoped>\n",
       "    .dataframe tbody tr th:only-of-type {\n",
       "        vertical-align: middle;\n",
       "    }\n",
       "\n",
       "    .dataframe tbody tr th {\n",
       "        vertical-align: top;\n",
       "    }\n",
       "\n",
       "    .dataframe thead th {\n",
       "        text-align: right;\n",
       "    }\n",
       "</style>\n",
       "<table border=\"1\" class=\"dataframe\">\n",
       "  <thead>\n",
       "    <tr style=\"text-align: right;\">\n",
       "      <th></th>\n",
       "      <th>city</th>\n",
       "      <th>last_available_confirmed_per_100k_inhabitants</th>\n",
       "    </tr>\n",
       "  </thead>\n",
       "  <tbody>\n",
       "    <tr>\n",
       "      <th>12</th>\n",
       "      <td>Igaratá</td>\n",
       "      <td>22393.82239</td>\n",
       "    </tr>\n",
       "    <tr>\n",
       "      <th>13</th>\n",
       "      <td>Ilhabela</td>\n",
       "      <td>20819.87019</td>\n",
       "    </tr>\n",
       "    <tr>\n",
       "      <th>27</th>\n",
       "      <td>Roseira</td>\n",
       "      <td>15646.69938</td>\n",
       "    </tr>\n",
       "    <tr>\n",
       "      <th>7</th>\n",
       "      <td>Caraguatatuba</td>\n",
       "      <td>14647.98321</td>\n",
       "    </tr>\n",
       "    <tr>\n",
       "      <th>33</th>\n",
       "      <td>São José dos Campos</td>\n",
       "      <td>12622.76683</td>\n",
       "    </tr>\n",
       "  </tbody>\n",
       "</table>\n",
       "</div>"
      ],
      "text/plain": [
       "                   city  last_available_confirmed_per_100k_inhabitants\n",
       "12              Igaratá                                    22393.82239\n",
       "13             Ilhabela                                    20819.87019\n",
       "27              Roseira                                    15646.69938\n",
       "7         Caraguatatuba                                    14647.98321\n",
       "33  São José dos Campos                                    12622.76683"
      ]
     },
     "execution_count": 17,
     "metadata": {},
     "output_type": "execute_result"
    }
   ],
   "source": [
    "df_casos_proporcionais = df_vale.groupby('city').last()\n",
    "\n",
    "df_casos_proporcionais.reset_index(inplace=True)\n",
    "df_casos_proporcionais[['city', 'last_available_confirmed_per_100k_inhabitants']].\\\n",
    "                    sort_values(by='last_available_confirmed_per_100k_inhabitants', \n",
    "                                   ascending=False).head()"
   ]
  },
  {
   "cell_type": "markdown",
   "id": "0e6c4246",
   "metadata": {},
   "source": [
    "A primeira surpresa: a cidade com maior casos só aparece em quinto lugar.  \n",
    "Vamos gerar a mesma tabela novamente, dessa vez com o número de casos e habitantes."
   ]
  },
  {
   "cell_type": "code",
   "execution_count": 18,
   "id": "204ffe02",
   "metadata": {
    "scrolled": true
   },
   "outputs": [
    {
     "data": {
      "text/html": [
       "<div>\n",
       "<style scoped>\n",
       "    .dataframe tbody tr th:only-of-type {\n",
       "        vertical-align: middle;\n",
       "    }\n",
       "\n",
       "    .dataframe tbody tr th {\n",
       "        vertical-align: top;\n",
       "    }\n",
       "\n",
       "    .dataframe thead th {\n",
       "        text-align: right;\n",
       "    }\n",
       "</style>\n",
       "<table border=\"1\" class=\"dataframe\">\n",
       "  <thead>\n",
       "    <tr style=\"text-align: right;\">\n",
       "      <th></th>\n",
       "      <th>city</th>\n",
       "      <th>last_available_confirmed</th>\n",
       "      <th>estimated_population</th>\n",
       "      <th>last_available_confirmed_per_100k_inhabitants</th>\n",
       "    </tr>\n",
       "  </thead>\n",
       "  <tbody>\n",
       "    <tr>\n",
       "      <th>12</th>\n",
       "      <td>Igaratá</td>\n",
       "      <td>2146</td>\n",
       "      <td>9583.0</td>\n",
       "      <td>22393.82239</td>\n",
       "    </tr>\n",
       "    <tr>\n",
       "      <th>13</th>\n",
       "      <td>Ilhabela</td>\n",
       "      <td>7410</td>\n",
       "      <td>35591.0</td>\n",
       "      <td>20819.87019</td>\n",
       "    </tr>\n",
       "    <tr>\n",
       "      <th>27</th>\n",
       "      <td>Roseira</td>\n",
       "      <td>1690</td>\n",
       "      <td>10801.0</td>\n",
       "      <td>15646.69938</td>\n",
       "    </tr>\n",
       "    <tr>\n",
       "      <th>7</th>\n",
       "      <td>Caraguatatuba</td>\n",
       "      <td>18074</td>\n",
       "      <td>123389.0</td>\n",
       "      <td>14647.98321</td>\n",
       "    </tr>\n",
       "    <tr>\n",
       "      <th>33</th>\n",
       "      <td>São José dos Campos</td>\n",
       "      <td>92113</td>\n",
       "      <td>729737.0</td>\n",
       "      <td>12622.76683</td>\n",
       "    </tr>\n",
       "    <tr>\n",
       "      <th>1</th>\n",
       "      <td>Arapeí</td>\n",
       "      <td>270</td>\n",
       "      <td>2460.0</td>\n",
       "      <td>10975.60976</td>\n",
       "    </tr>\n",
       "    <tr>\n",
       "      <th>5</th>\n",
       "      <td>Campos do Jordão</td>\n",
       "      <td>5680</td>\n",
       "      <td>52405.0</td>\n",
       "      <td>10838.66043</td>\n",
       "    </tr>\n",
       "    <tr>\n",
       "      <th>14</th>\n",
       "      <td>Jacareí</td>\n",
       "      <td>25245</td>\n",
       "      <td>235416.0</td>\n",
       "      <td>10723.57019</td>\n",
       "    </tr>\n",
       "    <tr>\n",
       "      <th>29</th>\n",
       "      <td>Santo Antônio do Pinhal</td>\n",
       "      <td>731</td>\n",
       "      <td>6827.0</td>\n",
       "      <td>10707.48499</td>\n",
       "    </tr>\n",
       "    <tr>\n",
       "      <th>3</th>\n",
       "      <td>Bananal</td>\n",
       "      <td>1133</td>\n",
       "      <td>10993.0</td>\n",
       "      <td>10306.55872</td>\n",
       "    </tr>\n",
       "  </tbody>\n",
       "</table>\n",
       "</div>"
      ],
      "text/plain": [
       "                       city  last_available_confirmed  estimated_population  \\\n",
       "12                  Igaratá                      2146                9583.0   \n",
       "13                 Ilhabela                      7410               35591.0   \n",
       "27                  Roseira                      1690               10801.0   \n",
       "7             Caraguatatuba                     18074              123389.0   \n",
       "33      São José dos Campos                     92113              729737.0   \n",
       "1                    Arapeí                       270                2460.0   \n",
       "5          Campos do Jordão                      5680               52405.0   \n",
       "14                  Jacareí                     25245              235416.0   \n",
       "29  Santo Antônio do Pinhal                       731                6827.0   \n",
       "3                   Bananal                      1133               10993.0   \n",
       "\n",
       "    last_available_confirmed_per_100k_inhabitants  \n",
       "12                                    22393.82239  \n",
       "13                                    20819.87019  \n",
       "27                                    15646.69938  \n",
       "7                                     14647.98321  \n",
       "33                                    12622.76683  \n",
       "1                                     10975.60976  \n",
       "5                                     10838.66043  \n",
       "14                                    10723.57019  \n",
       "29                                    10707.48499  \n",
       "3                                     10306.55872  "
      ]
     },
     "execution_count": 18,
     "metadata": {},
     "output_type": "execute_result"
    }
   ],
   "source": [
    "colunas_para_plotar = ['city', 'last_available_confirmed', 'estimated_population', \n",
    "                       'last_available_confirmed_per_100k_inhabitants']\n",
    "\n",
    "df_casos_proporcionais[colunas_para_plotar].\\\n",
    "            sort_values(by='last_available_confirmed_per_100k_inhabitants', \n",
    "                        ascending=False).head(10)"
   ]
  },
  {
   "cell_type": "markdown",
   "id": "730a6192",
   "metadata": {},
   "source": [
    "E aqui entendemos a importância dos valores relativos para comparar um dado. Vemos que, Igaratá tem 9.583 habitantes, e foram registrados 2146 casos de COVID-19 o que equivale à 22% da sua população. Sem a relativização dos dados, é impossível comparar os casos de cidades pequenas e cidades maiores, como é o caso de São José dos Campos, que teve um total de 12% da sua população infectada.  \n",
    "O cálculo para chegar nesse resultado é:  \n",
    "<br/>\n",
    "\n",
    "$$ CasosPorCemMilHabitantes =  \\frac{Casos Confirmados}{População Estimada}* 100.000 $$  \n",
    "\n",
    "<br/>\n",
    "\n",
    "Portanto, a cidade com maior casos proporcial à sua população é Igaratá. Vamos avaliar a evolução de casos confirmados, juntamente com mais três cidades com população semelhante."
   ]
  },
  {
   "cell_type": "code",
   "execution_count": 19,
   "id": "fad0a8b3",
   "metadata": {},
   "outputs": [
    {
     "data": {
      "text/html": [
       "<div>\n",
       "<style scoped>\n",
       "    .dataframe tbody tr th:only-of-type {\n",
       "        vertical-align: middle;\n",
       "    }\n",
       "\n",
       "    .dataframe tbody tr th {\n",
       "        vertical-align: top;\n",
       "    }\n",
       "\n",
       "    .dataframe thead th {\n",
       "        text-align: right;\n",
       "    }\n",
       "</style>\n",
       "<table border=\"1\" class=\"dataframe\">\n",
       "  <thead>\n",
       "    <tr style=\"text-align: right;\">\n",
       "      <th></th>\n",
       "      <th>city</th>\n",
       "      <th>date</th>\n",
       "      <th>epidemiological_week</th>\n",
       "      <th>estimated_population</th>\n",
       "      <th>is_repeated</th>\n",
       "      <th>last_available_confirmed</th>\n",
       "      <th>last_available_confirmed_per_100k_inhabitants</th>\n",
       "      <th>last_available_date</th>\n",
       "      <th>last_available_death_rate</th>\n",
       "      <th>last_available_deaths</th>\n",
       "      <th>order_for_place</th>\n",
       "      <th>new_confirmed</th>\n",
       "      <th>new_deaths</th>\n",
       "    </tr>\n",
       "  </thead>\n",
       "  <tbody>\n",
       "    <tr>\n",
       "      <th>128</th>\n",
       "      <td>Igaratá</td>\n",
       "      <td>2020-04-13</td>\n",
       "      <td>2020-16</td>\n",
       "      <td>9583.0</td>\n",
       "      <td>False</td>\n",
       "      <td>1</td>\n",
       "      <td>10.43515</td>\n",
       "      <td>2020-04-13</td>\n",
       "      <td>0.0</td>\n",
       "      <td>0</td>\n",
       "      <td>1</td>\n",
       "      <td>1</td>\n",
       "      <td>0</td>\n",
       "    </tr>\n",
       "    <tr>\n",
       "      <th>142</th>\n",
       "      <td>Igaratá</td>\n",
       "      <td>2020-04-14</td>\n",
       "      <td>2020-16</td>\n",
       "      <td>9583.0</td>\n",
       "      <td>False</td>\n",
       "      <td>1</td>\n",
       "      <td>10.43515</td>\n",
       "      <td>2020-04-14</td>\n",
       "      <td>0.0</td>\n",
       "      <td>0</td>\n",
       "      <td>2</td>\n",
       "      <td>0</td>\n",
       "      <td>0</td>\n",
       "    </tr>\n",
       "    <tr>\n",
       "      <th>157</th>\n",
       "      <td>Igaratá</td>\n",
       "      <td>2020-04-15</td>\n",
       "      <td>2020-16</td>\n",
       "      <td>9583.0</td>\n",
       "      <td>False</td>\n",
       "      <td>1</td>\n",
       "      <td>10.43515</td>\n",
       "      <td>2020-04-15</td>\n",
       "      <td>0.0</td>\n",
       "      <td>0</td>\n",
       "      <td>3</td>\n",
       "      <td>0</td>\n",
       "      <td>0</td>\n",
       "    </tr>\n",
       "    <tr>\n",
       "      <th>173</th>\n",
       "      <td>Igaratá</td>\n",
       "      <td>2020-04-16</td>\n",
       "      <td>2020-16</td>\n",
       "      <td>9583.0</td>\n",
       "      <td>False</td>\n",
       "      <td>1</td>\n",
       "      <td>10.43515</td>\n",
       "      <td>2020-04-16</td>\n",
       "      <td>0.0</td>\n",
       "      <td>0</td>\n",
       "      <td>4</td>\n",
       "      <td>0</td>\n",
       "      <td>0</td>\n",
       "    </tr>\n",
       "    <tr>\n",
       "      <th>189</th>\n",
       "      <td>Igaratá</td>\n",
       "      <td>2020-04-17</td>\n",
       "      <td>2020-16</td>\n",
       "      <td>9583.0</td>\n",
       "      <td>False</td>\n",
       "      <td>1</td>\n",
       "      <td>10.43515</td>\n",
       "      <td>2020-04-17</td>\n",
       "      <td>0.0</td>\n",
       "      <td>0</td>\n",
       "      <td>5</td>\n",
       "      <td>0</td>\n",
       "      <td>0</td>\n",
       "    </tr>\n",
       "  </tbody>\n",
       "</table>\n",
       "</div>"
      ],
      "text/plain": [
       "        city       date epidemiological_week  estimated_population  \\\n",
       "128  Igaratá 2020-04-13              2020-16                9583.0   \n",
       "142  Igaratá 2020-04-14              2020-16                9583.0   \n",
       "157  Igaratá 2020-04-15              2020-16                9583.0   \n",
       "173  Igaratá 2020-04-16              2020-16                9583.0   \n",
       "189  Igaratá 2020-04-17              2020-16                9583.0   \n",
       "\n",
       "     is_repeated  last_available_confirmed  \\\n",
       "128        False                         1   \n",
       "142        False                         1   \n",
       "157        False                         1   \n",
       "173        False                         1   \n",
       "189        False                         1   \n",
       "\n",
       "     last_available_confirmed_per_100k_inhabitants last_available_date  \\\n",
       "128                                       10.43515          2020-04-13   \n",
       "142                                       10.43515          2020-04-14   \n",
       "157                                       10.43515          2020-04-15   \n",
       "173                                       10.43515          2020-04-16   \n",
       "189                                       10.43515          2020-04-17   \n",
       "\n",
       "     last_available_death_rate  last_available_deaths  order_for_place  \\\n",
       "128                        0.0                      0                1   \n",
       "142                        0.0                      0                2   \n",
       "157                        0.0                      0                3   \n",
       "173                        0.0                      0                4   \n",
       "189                        0.0                      0                5   \n",
       "\n",
       "     new_confirmed  new_deaths  \n",
       "128              1           0  \n",
       "142              0           0  \n",
       "157              0           0  \n",
       "173              0           0  \n",
       "189              0           0  "
      ]
     },
     "execution_count": 19,
     "metadata": {},
     "output_type": "execute_result"
    }
   ],
   "source": [
    "cidades = ['Igaratá', 'Lavrinhas', 'Roseira', 'São Luiz do Paraitinga']\n",
    "\n",
    "#Voltamos ao dataset df_vale, onde está a série temporal.\n",
    "cidades_para_analise = df_vale[df_vale['city'].isin(cidades)]\n",
    "\n",
    "cidades_para_analise.head()"
   ]
  },
  {
   "cell_type": "code",
   "execution_count": 20,
   "id": "7df4e7f4",
   "metadata": {},
   "outputs": [],
   "source": [
    "cidades = ['Igaratá (9583)', 'Lavrinhas (7311)', \n",
    "           'Roseira (10.801)', 'São Luiz do Paraitinga (10.690)']"
   ]
  },
  {
   "cell_type": "code",
   "execution_count": 21,
   "id": "de0929b3",
   "metadata": {},
   "outputs": [],
   "source": [
    "list_color = ['red', 'forestgreen', 'steelblue', 'dimgrey']\n",
    "\n",
    "igarata = cidades_para_analise[cidades_para_analise['city'] == 'Igaratá']\\\n",
    "                                        [['date', 'last_available_confirmed']]\n",
    "\n",
    "lavrinhas = cidades_para_analise[cidades_para_analise['city'] == 'Lavrinhas']\\\n",
    "                                        [['date', 'last_available_confirmed']]\n",
    "\n",
    "roseira = cidades_para_analise[cidades_para_analise['city'] == 'Roseira']\\\n",
    "                                        [['date', 'last_available_confirmed']]\n",
    "\n",
    "sao_luiz = cidades_para_analise[cidades_para_analise['city'] == 'São Luiz do Paraitinga']\\\n",
    "                                        [['date', 'last_available_confirmed']]\n"
   ]
  },
  {
   "cell_type": "code",
   "execution_count": 22,
   "id": "a0d50dad",
   "metadata": {},
   "outputs": [
    {
     "name": "stderr",
     "output_type": "stream",
     "text": [
      "findfont: Font family ['Arial'] not found. Falling back to DejaVu Sans.\n",
      "findfont: Font family ['Arial'] not found. Falling back to DejaVu Sans.\n"
     ]
    },
    {
     "data": {
      "image/png": "[encoded data removed]",
      "text/plain": [
       "<Figure size 1008x432 with 1 Axes>"
      ]
     },
     "metadata": {
      "needs_background": "light"
     },
     "output_type": "display_data"
    }
   ],
   "source": [
    "import matplotlib.dates as mdates\n",
    "from matplotlib.dates import DateFormatter\n",
    "from matplotlib import ticker\n",
    "\n",
    "fig, ax = plt.subplots(figsize=(14, 6))\n",
    "plt.title('Evolução de casos confirmados', fontsize=18)\n",
    "\n",
    "\n",
    "plt.plot(igarata['date'], igarata['last_available_confirmed'], color = 'red')\n",
    "\n",
    "plt.plot(lavrinhas['date'], lavrinhas['last_available_confirmed'], \n",
    "         color='forestgreen')\n",
    "\n",
    "plt.plot(roseira['date'], roseira['last_available_confirmed'], color='steelblue')\n",
    "\n",
    "plt.plot(sao_luiz['date'], sao_luiz['last_available_confirmed'], color='dimgrey')\n",
    "\n",
    "ax.xaxis.set_major_locator(ticker.IndexLocator(base=60, offset=-10))\n",
    "ax.xaxis.set_major_formatter(DateFormatter('%Y-%m'))\n",
    "\n",
    "plt.yticks(np.arange(0, 2501, 500))\n",
    "plt.legend(cidades)\n",
    "plt.show()\n",
    "\n"
   ]
  },
  {
   "cell_type": "markdown",
   "id": "402220f9",
   "metadata": {},
   "source": [
    "Vemos que nenhuma das cidades com populações semelhantes teve a mesma proporção de casos. A partir de junho/20 os casos descolam das outras cidades.  \n",
    "Outro ponto curioso é o fato de que os casos de São Luiz do Paraitinga aumentou verticalmente em setembro/21, o que pode indicar que os dados acumulados foram atualizados somente nessa época."
   ]
  },
  {
   "cell_type": "markdown",
   "id": "51c64430",
   "metadata": {},
   "source": [
    "### Maior taxa de mortalidade"
   ]
  },
  {
   "cell_type": "code",
   "execution_count": 23,
   "id": "3339beb5",
   "metadata": {},
   "outputs": [
    {
     "data": {
      "text/html": [
       "<div>\n",
       "<style scoped>\n",
       "    .dataframe tbody tr th:only-of-type {\n",
       "        vertical-align: middle;\n",
       "    }\n",
       "\n",
       "    .dataframe tbody tr th {\n",
       "        vertical-align: top;\n",
       "    }\n",
       "\n",
       "    .dataframe thead th {\n",
       "        text-align: right;\n",
       "    }\n",
       "</style>\n",
       "<table border=\"1\" class=\"dataframe\">\n",
       "  <thead>\n",
       "    <tr style=\"text-align: right;\">\n",
       "      <th></th>\n",
       "      <th>city</th>\n",
       "      <th>last_available_death_rate</th>\n",
       "    </tr>\n",
       "  </thead>\n",
       "  <tbody>\n",
       "    <tr>\n",
       "      <th>16</th>\n",
       "      <td>Lagoinha</td>\n",
       "      <td>0.0508</td>\n",
       "    </tr>\n",
       "    <tr>\n",
       "      <th>23</th>\n",
       "      <td>Piquete</td>\n",
       "      <td>0.0504</td>\n",
       "    </tr>\n",
       "    <tr>\n",
       "      <th>20</th>\n",
       "      <td>Natividade da Serra</td>\n",
       "      <td>0.0461</td>\n",
       "    </tr>\n",
       "    <tr>\n",
       "      <th>0</th>\n",
       "      <td>Aparecida</td>\n",
       "      <td>0.0402</td>\n",
       "    </tr>\n",
       "    <tr>\n",
       "      <th>21</th>\n",
       "      <td>Paraibuna</td>\n",
       "      <td>0.0376</td>\n",
       "    </tr>\n",
       "  </tbody>\n",
       "</table>\n",
       "</div>"
      ],
      "text/plain": [
       "                   city  last_available_death_rate\n",
       "16             Lagoinha                     0.0508\n",
       "23              Piquete                     0.0504\n",
       "20  Natividade da Serra                     0.0461\n",
       "0             Aparecida                     0.0402\n",
       "21            Paraibuna                     0.0376"
      ]
     },
     "execution_count": 23,
     "metadata": {},
     "output_type": "execute_result"
    }
   ],
   "source": [
    "df_casos_proporcionais[['city', 'last_available_death_rate']]. \\\n",
    "            sort_values('last_available_death_rate', ascending=False)[:5]"
   ]
  },
  {
   "cell_type": "code",
   "execution_count": 24,
   "id": "ca9dc6d9",
   "metadata": {},
   "outputs": [
    {
     "data": {
      "text/plain": [
       "333756    0.0343\n",
       "Name: last_available_death_rate, dtype: float64"
      ]
     },
     "execution_count": 24,
     "metadata": {},
     "output_type": "execute_result"
    }
   ],
   "source": [
    "caso_full = pd.read_csv('./dados/dados_brutos/caso_full.csv')\n",
    "caso_full_sp = caso_full.query('state==\"SP\"')\n",
    "\n",
    "caso_full_sp['date'] = pd.to_datetime(caso_full_sp['date'], format='%Y-%m-%d')\n",
    "\n",
    "caso_full_sp = caso_full_sp[caso_full_sp['date'] <= '2021-09-30']\n",
    "\n",
    "caso_full_sp.query('city_ibge_code == 35.0')['last_available_death_rate'].tail(1)"
   ]
  },
  {
   "cell_type": "code",
   "execution_count": 25,
   "id": "cf03d12c",
   "metadata": {},
   "outputs": [
    {
     "data": {
      "text/plain": [
       "0.023215384615384613"
      ]
     },
     "execution_count": 25,
     "metadata": {},
     "output_type": "execute_result"
    }
   ],
   "source": [
    "df_casos_proporcionais['last_available_death_rate'].mean()"
   ]
  },
  {
   "cell_type": "markdown",
   "id": "f07cd471",
   "metadata": {},
   "source": [
    "A cidade de Lagoinha mostrou uma maior taxa de mortalidade (mortos/casos confirmados) do vale do paraíba, com 5%. A fim de comparação, a média no Vale do Paraíba foi de 2%, enquanto para todo o estado foi de 3%."
   ]
  },
  {
   "cell_type": "markdown",
   "id": "316b6203",
   "metadata": {},
   "source": [
    "### Quais são as cidades que teve mais boletins?  \n",
    "Essa é uma questão interessante, pois conforme vimos no gráfico com maiores casos por cem mil habitantes, aquelas cidades teve um período considerável onde os casos não variaram. Isso foi por falta de notificação ou não houveram novos casos?  \n",
    "Para tentarmos descobrir isso, vamos verificar a quantidade de boletim que cada cidade emitiu. podemos investigar a coluna `is_repeated`, que indica se a informação do registro é referente à data anterior ou original."
   ]
  },
  {
   "cell_type": "code",
   "execution_count": 26,
   "id": "2c6667e2",
   "metadata": {},
   "outputs": [
    {
     "data": {
      "text/html": [
       "<div>\n",
       "<style scoped>\n",
       "    .dataframe tbody tr th:only-of-type {\n",
       "        vertical-align: middle;\n",
       "    }\n",
       "\n",
       "    .dataframe tbody tr th {\n",
       "        vertical-align: top;\n",
       "    }\n",
       "\n",
       "    .dataframe thead th {\n",
       "        text-align: right;\n",
       "    }\n",
       "</style>\n",
       "<table border=\"1\" class=\"dataframe\">\n",
       "  <thead>\n",
       "    <tr style=\"text-align: right;\">\n",
       "      <th></th>\n",
       "      <th>city</th>\n",
       "      <th>order_for_place</th>\n",
       "    </tr>\n",
       "  </thead>\n",
       "  <tbody>\n",
       "    <tr>\n",
       "      <th>36</th>\n",
       "      <td>Taubaté</td>\n",
       "      <td>514</td>\n",
       "    </tr>\n",
       "    <tr>\n",
       "      <th>33</th>\n",
       "      <td>São José dos Campos</td>\n",
       "      <td>514</td>\n",
       "    </tr>\n",
       "    <tr>\n",
       "      <th>35</th>\n",
       "      <td>São Sebastião</td>\n",
       "      <td>512</td>\n",
       "    </tr>\n",
       "    <tr>\n",
       "      <th>4</th>\n",
       "      <td>Cachoeira Paulista</td>\n",
       "      <td>508</td>\n",
       "    </tr>\n",
       "    <tr>\n",
       "      <th>28</th>\n",
       "      <td>Santa Branca</td>\n",
       "      <td>504</td>\n",
       "    </tr>\n",
       "    <tr>\n",
       "      <th>7</th>\n",
       "      <td>Caraguatatuba</td>\n",
       "      <td>502</td>\n",
       "    </tr>\n",
       "    <tr>\n",
       "      <th>22</th>\n",
       "      <td>Pindamonhangaba</td>\n",
       "      <td>501</td>\n",
       "    </tr>\n",
       "    <tr>\n",
       "      <th>8</th>\n",
       "      <td>Caçapava</td>\n",
       "      <td>500</td>\n",
       "    </tr>\n",
       "    <tr>\n",
       "      <th>14</th>\n",
       "      <td>Jacareí</td>\n",
       "      <td>500</td>\n",
       "    </tr>\n",
       "    <tr>\n",
       "      <th>11</th>\n",
       "      <td>Guaratinguetá</td>\n",
       "      <td>499</td>\n",
       "    </tr>\n",
       "  </tbody>\n",
       "</table>\n",
       "</div>"
      ],
      "text/plain": [
       "                   city  order_for_place\n",
       "36              Taubaté              514\n",
       "33  São José dos Campos              514\n",
       "35        São Sebastião              512\n",
       "4    Cachoeira Paulista              508\n",
       "28         Santa Branca              504\n",
       "7         Caraguatatuba              502\n",
       "22      Pindamonhangaba              501\n",
       "8              Caçapava              500\n",
       "14              Jacareí              500\n",
       "11        Guaratinguetá              499"
      ]
     },
     "execution_count": 26,
     "metadata": {},
     "output_type": "execute_result"
    }
   ],
   "source": [
    "df_boletins = df_vale[df_vale['is_repeated'] == False]\n",
    "df_boletins.groupby('city')[['order_for_place']].count().reset_index().\\\n",
    "                                    sort_values(by='order_for_place', ascending=False).head(10)"
   ]
  },
  {
   "cell_type": "code",
   "execution_count": 27,
   "id": "c11ab392",
   "metadata": {},
   "outputs": [
    {
     "data": {
      "text/html": [
       "<div>\n",
       "<style scoped>\n",
       "    .dataframe tbody tr th:only-of-type {\n",
       "        vertical-align: middle;\n",
       "    }\n",
       "\n",
       "    .dataframe tbody tr th {\n",
       "        vertical-align: top;\n",
       "    }\n",
       "\n",
       "    .dataframe thead th {\n",
       "        text-align: right;\n",
       "    }\n",
       "</style>\n",
       "<table border=\"1\" class=\"dataframe\">\n",
       "  <thead>\n",
       "    <tr style=\"text-align: right;\">\n",
       "      <th></th>\n",
       "      <th>city</th>\n",
       "      <th>estimated_population</th>\n",
       "    </tr>\n",
       "  </thead>\n",
       "  <tbody>\n",
       "    <tr>\n",
       "      <th>33</th>\n",
       "      <td>São José dos Campos</td>\n",
       "      <td>729737.0</td>\n",
       "    </tr>\n",
       "    <tr>\n",
       "      <th>36</th>\n",
       "      <td>Taubaté</td>\n",
       "      <td>317915.0</td>\n",
       "    </tr>\n",
       "    <tr>\n",
       "      <th>14</th>\n",
       "      <td>Jacareí</td>\n",
       "      <td>235416.0</td>\n",
       "    </tr>\n",
       "    <tr>\n",
       "      <th>22</th>\n",
       "      <td>Pindamonhangaba</td>\n",
       "      <td>170132.0</td>\n",
       "    </tr>\n",
       "    <tr>\n",
       "      <th>7</th>\n",
       "      <td>Caraguatatuba</td>\n",
       "      <td>123389.0</td>\n",
       "    </tr>\n",
       "    <tr>\n",
       "      <th>11</th>\n",
       "      <td>Guaratinguetá</td>\n",
       "      <td>122505.0</td>\n",
       "    </tr>\n",
       "    <tr>\n",
       "      <th>8</th>\n",
       "      <td>Caçapava</td>\n",
       "      <td>95018.0</td>\n",
       "    </tr>\n",
       "    <tr>\n",
       "      <th>38</th>\n",
       "      <td>Ubatuba</td>\n",
       "      <td>91824.0</td>\n",
       "    </tr>\n",
       "    <tr>\n",
       "      <th>35</th>\n",
       "      <td>São Sebastião</td>\n",
       "      <td>90328.0</td>\n",
       "    </tr>\n",
       "    <tr>\n",
       "      <th>18</th>\n",
       "      <td>Lorena</td>\n",
       "      <td>89125.0</td>\n",
       "    </tr>\n",
       "  </tbody>\n",
       "</table>\n",
       "</div>"
      ],
      "text/plain": [
       "                   city  estimated_population\n",
       "33  São José dos Campos              729737.0\n",
       "36              Taubaté              317915.0\n",
       "14              Jacareí              235416.0\n",
       "22      Pindamonhangaba              170132.0\n",
       "7         Caraguatatuba              123389.0\n",
       "11        Guaratinguetá              122505.0\n",
       "8              Caçapava               95018.0\n",
       "38              Ubatuba               91824.0\n",
       "35        São Sebastião               90328.0\n",
       "18               Lorena               89125.0"
      ]
     },
     "execution_count": 27,
     "metadata": {},
     "output_type": "execute_result"
    }
   ],
   "source": [
    "#Verificando a População\n",
    "df_casos_proporcionais[['city', 'estimated_population']].sort_values('estimated_population', \n",
    "                                                                     ascending=False).head(10)"
   ]
  },
  {
   "cell_type": "markdown",
   "id": "48ac2f43",
   "metadata": {},
   "source": [
    "São José dos Campos e Taubaté, que possuem a maior população dentro da amostra, foram também os que mais emitiram boletins, e é possível verificar a relação entre o tamanho da população e a quantidade de boletins."
   ]
  },
  {
   "cell_type": "markdown",
   "id": "6121f5df",
   "metadata": {},
   "source": [
    "## Conclusão  \n",
    "Os primeiros casos da COVID-19 no Vale do Paraíba aconteceram ainda em março de 2020, no começo da pandemia. Mesmo assim, por possuir poucas cidades metropolitanas a propagação foi lenta. Durante o período analisado (março/20 até setembro/21), a região teve mais de 266.486 casos e 6.320 vidas perdidas.  \n",
    "Os principais pontos levantados durante a análise:\n",
    "* O primeiro caso registrado no Vale do Paraíba aconteceu em São José dos Campos, em 18/03/2020;\n",
    "* Em números absolutos, São José dos Campos também foi a cidade com maior quantidade de casos, totalizando mais de 92 mil casos - mais de 3 vezes mais que o segundo colocado, Taubaté;\n",
    "    * Porém, ao avaliar os casos a cada 100 mil habitantes, São José cai para quinto lugar. O primeiro lugar fica com Igaratá.\n",
    "* A cidade com mais mortes também foi São José dos campos - 1.931 óbitos;\n",
    "* Os Dados sobre a taxa de mortalidade:\n",
    "    * Taxa do estado de São Paulo: 3%;\n",
    "    * Taxa do Vale do Paraíba: 2%;\n",
    "    * Maior taxa entre as cidades: Lagoinha: 5%;\n",
    "  \n",
    "Diante do tamanho dos casos, no próximo notebook vamos criar um modelo para predizer os novos casos e óbitos da cidade de São José dos Campos.  \n",
    "Um ponto que pude refletir ao analisar o dataset foi sobre a consistência dos dados. Realizar essa análise só foi possível graças ao esforço do Brasil.IO, que fez todo o trabalho de reunir, catalogar e disponibilidar os dados, tudo isso com esforço próprio. Mas como os dados são geradas pelas secretarias de saúdade de cada cidade, tudo depende da constância com a qual as informações são disponibilizadas. E vimos que nenhuma cidade emitiu boletins de forma diária. Sem mencionar os casos de subnotificação já conhecidas em todo o Brasil, mostra que não possuímos estrutura para acompanhar de forma mais acurada. "
   ]
  }
 ],
 "metadata": {
  "kernelspec": {
   "display_name": "Python 3 (ipykernel)",
   "language": "python",
   "name": "python3"
  },
  "language_info": {
   "codemirror_mode": {
    "name": "ipython",
    "version": 3
   },
   "file_extension": ".py",
   "mimetype": "text/x-python",
   "name": "python",
   "nbconvert_exporter": "python",
   "pygments_lexer": "ipython3",
   "version": "3.8.10"
  }
 },
 "nbformat": 4,
 "nbformat_minor": 5
}
